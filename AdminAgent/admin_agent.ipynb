{
 "cells": [
  {
   "cell_type": "code",
   "execution_count": 1,
   "id": "49704573",
   "metadata": {},
   "outputs": [
    {
     "data": {
      "text/plain": [
       "True"
      ]
     },
     "execution_count": 1,
     "metadata": {},
     "output_type": "execute_result"
    }
   ],
   "source": [
    "from dotenv import load_dotenv\n",
    "\n",
    "load_dotenv()"
   ]
  },
  {
   "cell_type": "code",
   "execution_count": 2,
   "id": "b43e1b59",
   "metadata": {},
   "outputs": [],
   "source": [
    "from langgraph.graph import END, START, StateGraph, MessagesState\n",
    "#from langchain_openai import ChatOpenAI\n",
    "from langchain_groq import ChatGroq\n",
    "from langchain_core.tools import tool\n",
    "from langgraph.prebuilt import ToolNode\n",
    "from typing import Literal\n",
    "from langgraph.graph import StateGraph, MessagesState, state\n",
    "import os"
   ]
  },
  {
   "cell_type": "code",
   "execution_count": 8,
   "id": "1457d07e",
   "metadata": {},
   "outputs": [],
   "source": [
    "from monitoring_module import (\n",
    "    fetch_slow_queries_bigquery,\n",
    "    generate_email_content,\n",
    "    send_email\n",
    ")"
   ]
  },
  {
   "cell_type": "code",
   "execution_count": 4,
   "id": "346bdc8d",
   "metadata": {},
   "outputs": [],
   "source": [
    "graph = StateGraph(dict)"
   ]
  },
  {
   "cell_type": "code",
   "execution_count": null,
   "id": "a5edecf7",
   "metadata": {},
   "outputs": [],
   "source": [
    "@tool\n",
    "def fetch_queries_tool(admin_email: str) -> dict:\n",
    "    \"\"\"slow running query\"\"\"\n",
    "    slow_queries = fetch_slow_queries_bigquery()\n",
    "    return {\n",
    "        \"admin_email\": admin_email,\n",
    "        \"slow_queries\": slow_queries\n",
    "    }\n",
    "\n",
    "@tool\n",
    "def format_queries_tool(admin_email: str, slow_queries: list) -> dict:\n",
    "    \"\"\"Format queries into email.\"\"\"\n",
    "    formatted_email = generate_email_content(slow_queries)\n",
    "    return {\n",
    "        \"admin_email\": admin_email,\n",
    "        \"slow_queries\": slow_queries,\n",
    "        \"formatted_email\": formatted_email\n",
    "    }\n",
    "\n",
    "@tool\n",
    "def send_email_tool(admin_email: str, formatted_email: str) -> dict:\n",
    "    \"\"\"Send email to admin.\"\"\"\n",
    "    send_email(admin_email, formatted_email)\n",
    "    return {\n",
    "        \"admin_email\": admin_email,\n",
    "        \"formatted_email\": formatted_email\n",
    "    }\n",
    "\n",
    "# Build the graph\n",
    "graph = StateGraph(dict)\n",
    "graph.add_node(\"FetchQueries\", fetch_queries_tool)\n",
    "graph.add_node(\"FormatQueries\", format_queries_tool)\n",
    "graph.add_node(\"SendEmail\", send_email_tool)\n",
    "\n",
    "graph.set_entry_point(\"FetchQueries\")\n",
    "graph.add_edge(\"FetchQueries\", \"FormatQueries\")\n",
    "graph.add_edge(\"FormatQueries\", \"SendEmail\")\n",
    "graph.set_finish_point(\"SendEmail\")\n",
    "\n",
    "# Compile the graph\n",
    "workflow = graph.compile()\n"
   ]
  },
  {
   "cell_type": "code",
   "execution_count": 28,
   "id": "a65d245c",
   "metadata": {},
   "outputs": [],
   "source": [
    "llm = ChatGroq(\n",
    "    temperature=0, \n",
    "    model_name=\"llama-3.3-70b-versatile\"\n",
    ")"
   ]
  },
  {
   "cell_type": "code",
   "execution_count": 10,
   "id": "e02c7836",
   "metadata": {},
   "outputs": [
    {
     "name": "stdout",
     "output_type": "stream",
     "text": [
      "Email sent successfully. Response status: 202\n"
     ]
    },
    {
     "data": {
      "text/plain": [
       "{'admin_email': 'deepakk073@gmail.com',\n",
       " 'formatted_email': \"🚨 Slow Queries Detected in BigQuery\\n\\n\\n\\nUser: deepakk073@gmail.com\\nJob ID: scheduled_query_682af2c9-0000-22ea-9df8-24058872df70\\nSlot Time: 5481 ms\\nURL: https://console.cloud.google.com/bigquery?j=your_project:region:scheduled_query_682af2c9-0000-22ea-9df8-24058872df70\\nAbort: bq cancel -j scheduled_query_682af2c9-0000-22ea-9df8-24058872df70\\nQuery:\\n\\nDECLARE getdate DATE DEFAULT CURRENT_DATE();\\nDECLARE weekday STRING;\\nSET weekday = FORMAT_DATE('%A', getdate);\\nINSERT INTO `mlconsole-poc.test.sql_job` (getdate, weekday) VALUES (getdate, weekday);\\n---\\n\"}"
      ]
     },
     "execution_count": 10,
     "metadata": {},
     "output_type": "execute_result"
    }
   ],
   "source": [
    "workflow.invoke({\n",
    "    \"admin_email\": \"deepakk073@gmail.com\"\n",
    "})"
   ]
  },
  {
   "cell_type": "code",
   "execution_count": 4,
   "id": "d8c29849",
   "metadata": {},
   "outputs": [
    {
     "name": "stdout",
     "output_type": "stream",
     "text": [
      "Email sent successfully. Response status: 202\n"
     ]
    }
   ],
   "source": [
    "# Usage example\n",
    "send_email(\n",
    "    to_email=\"deepakk073@gmail.com\",\n",
    "    message_body=\"This is a test email sent using SendGrid.\"\n",
    ")"
   ]
  },
  {
   "cell_type": "code",
   "execution_count": 33,
   "id": "3ff30d38",
   "metadata": {},
   "outputs": [
    {
     "name": "stdout",
     "output_type": "stream",
     "text": [
      "Sending email to deepakk073@gmail.com:\n",
      "SELECT * FROM huge_table WHERE ...\n",
      "SELECT COUNT(*) ...\n"
     ]
    },
    {
     "data": {
      "text/plain": [
       "{'admin_email': 'deepakk073@gmail.com',\n",
       " 'formatted_email': 'SELECT * FROM huge_table WHERE ...\\nSELECT COUNT(*) ...'}"
      ]
     },
     "execution_count": 33,
     "metadata": {},
     "output_type": "execute_result"
    }
   ],
   "source": [
    "from langchain_core.tools import tool\n",
    "from langgraph.graph import StateGraph\n",
    "\n",
    "# Dummy helper functions\n",
    "def fetch_slow_queries_bigquery():\n",
    "    return [\"SELECT * FROM huge_table WHERE ...\", \"SELECT COUNT(*) ...\"]\n",
    "\n",
    "def generate_email_content(queries):\n",
    "    return \"\\n\".join(queries)\n",
    "\n",
    "def send_email(to, content):\n",
    "    print(f\"Sending email to {to}:\\n{content}\")\n",
    "\n",
    "# Tools\n",
    "@tool\n",
    "def fetch_queries_tool(admin_email: str) -> dict:\n",
    "    \"\"\"Fetch slow-running queries.\"\"\"\n",
    "    slow_queries = fetch_slow_queries_bigquery()\n",
    "    return {\n",
    "        \"admin_email\": admin_email,\n",
    "        \"slow_queries\": slow_queries\n",
    "    }\n",
    "\n",
    "@tool\n",
    "def format_queries_tool(admin_email: str, slow_queries: list) -> dict:\n",
    "    \"\"\"Format queries into email.\"\"\"\n",
    "    formatted_email = generate_email_content(slow_queries)\n",
    "    return {\n",
    "        \"admin_email\": admin_email,\n",
    "        \"slow_queries\": slow_queries,\n",
    "        \"formatted_email\": formatted_email\n",
    "    }\n",
    "\n",
    "@tool\n",
    "def send_email_tool(admin_email: str, formatted_email: str) -> dict:\n",
    "    \"\"\"Send email to admin.\"\"\"\n",
    "    send_email(admin_email, formatted_email)\n",
    "    return {\n",
    "        \"admin_email\": admin_email,\n",
    "        \"formatted_email\": formatted_email\n",
    "    }\n",
    "\n",
    "# Build the graph\n",
    "graph = StateGraph(dict)\n",
    "graph.add_node(\"FetchQueries\", fetch_queries_tool)\n",
    "graph.add_node(\"FormatQueries\", format_queries_tool)\n",
    "graph.add_node(\"SendEmail\", send_email_tool)\n",
    "\n",
    "graph.set_entry_point(\"FetchQueries\")\n",
    "graph.add_edge(\"FetchQueries\", \"FormatQueries\")\n",
    "graph.add_edge(\"FormatQueries\", \"SendEmail\")\n",
    "graph.set_finish_point(\"SendEmail\")\n",
    "\n",
    "# Compile the graph\n",
    "workflow = graph.compile()\n",
    "\n",
    "# ✅ Invoke with only the required input to the first node\n",
    "workflow.invoke({\n",
    "    \"admin_email\": \"deepakk073@gmail.com\"\n",
    "})\n"
   ]
  },
  {
   "cell_type": "code",
   "execution_count": 17,
   "id": "34ddad1e",
   "metadata": {},
   "outputs": [
    {
     "name": "stdout",
     "output_type": "stream",
     "text": [
      "QueryJob<project=mlconsole-poc, location=US, id=5d2d389f-87ef-4eb2-bcf1-0f0b234150b5>\n"
     ]
    }
   ],
   "source": [
    "from google.cloud import bigquery\n",
    "#client = bigquery.Client(credentials=credentials, project=\"mlconsole-poc\")\n",
    "client = bigquery.Client()\n",
    "query = \"\"\"\n",
    "SELECT job_id,'deepakk073@gmail.com' user_email, query, total_slot_ms, creation_time \n",
    "FROM `region-us`.INFORMATION_SCHEMA.JOBS_BY_PROJECT \n",
    "WHERE \n",
    "    state = 'DONE' \n",
    "    AND job_type = 'QUERY' \n",
    "    AND creation_time > TIMESTAMP_SUB(CURRENT_TIMESTAMP(), INTERVAL 10 HOUR) \n",
    "    AND total_slot_ms > 5000\n",
    "    limit 1\n",
    "\"\"\"\n",
    "job = client.query(query, job_config=bigquery.QueryJobConfig(\n",
    "))\n",
    "print (job)"
   ]
  },
  {
   "cell_type": "code",
   "execution_count": 55,
   "id": "3a7e03db",
   "metadata": {},
   "outputs": [
    {
     "name": "stdout",
     "output_type": "stream",
     "text": [
      "Collecting google-cloud\n",
      "  Downloading google_cloud-0.34.0-py2.py3-none-any.whl.metadata (2.7 kB)\n",
      "Requirement already satisfied: google-cloud-bigquery in c:\\users\\rishi\\poc_project\\.venv\\lib\\site-packages (3.31.0)\n",
      "Requirement already satisfied: google-api-core<3.0.0,>=2.11.1 in c:\\users\\rishi\\poc_project\\.venv\\lib\\site-packages (from google-api-core[grpc]<3.0.0,>=2.11.1->google-cloud-bigquery) (2.24.2)\n",
      "Requirement already satisfied: google-auth<3.0.0,>=2.14.1 in c:\\users\\rishi\\poc_project\\.venv\\lib\\site-packages (from google-cloud-bigquery) (2.40.1)\n",
      "Requirement already satisfied: google-cloud-core<3.0.0,>=2.4.1 in c:\\users\\rishi\\poc_project\\.venv\\lib\\site-packages (from google-cloud-bigquery) (2.4.3)\n",
      "Requirement already satisfied: google-resumable-media<3.0.0,>=2.0.0 in c:\\users\\rishi\\poc_project\\.venv\\lib\\site-packages (from google-cloud-bigquery) (2.7.2)\n",
      "Requirement already satisfied: packaging>=24.2.0 in c:\\users\\rishi\\poc_project\\.venv\\lib\\site-packages (from google-cloud-bigquery) (24.2)\n",
      "Requirement already satisfied: python-dateutil<3.0.0,>=2.8.2 in c:\\users\\rishi\\poc_project\\.venv\\lib\\site-packages (from google-cloud-bigquery) (2.9.0.post0)\n",
      "Requirement already satisfied: requests<3.0.0,>=2.21.0 in c:\\users\\rishi\\poc_project\\.venv\\lib\\site-packages (from google-cloud-bigquery) (2.32.3)\n",
      "Requirement already satisfied: googleapis-common-protos<2.0.0,>=1.56.2 in c:\\users\\rishi\\poc_project\\.venv\\lib\\site-packages (from google-api-core<3.0.0,>=2.11.1->google-api-core[grpc]<3.0.0,>=2.11.1->google-cloud-bigquery) (1.70.0)\n",
      "Requirement already satisfied: protobuf!=3.20.0,!=3.20.1,!=4.21.0,!=4.21.1,!=4.21.2,!=4.21.3,!=4.21.4,!=4.21.5,<7.0.0,>=3.19.5 in c:\\users\\rishi\\poc_project\\.venv\\lib\\site-packages (from google-api-core<3.0.0,>=2.11.1->google-api-core[grpc]<3.0.0,>=2.11.1->google-cloud-bigquery) (6.31.0rc2)\n",
      "Requirement already satisfied: proto-plus<2.0.0,>=1.22.3 in c:\\users\\rishi\\poc_project\\.venv\\lib\\site-packages (from google-api-core<3.0.0,>=2.11.1->google-api-core[grpc]<3.0.0,>=2.11.1->google-cloud-bigquery) (1.26.1)\n",
      "Requirement already satisfied: grpcio<2.0dev,>=1.33.2 in c:\\users\\rishi\\poc_project\\.venv\\lib\\site-packages (from google-api-core[grpc]<3.0.0,>=2.11.1->google-cloud-bigquery) (1.72.0rc1)\n",
      "Requirement already satisfied: grpcio-status<2.0.dev0,>=1.33.2 in c:\\users\\rishi\\poc_project\\.venv\\lib\\site-packages (from google-api-core[grpc]<3.0.0,>=2.11.1->google-cloud-bigquery) (1.72.0rc1)\n",
      "Requirement already satisfied: cachetools<6.0,>=2.0.0 in c:\\users\\rishi\\poc_project\\.venv\\lib\\site-packages (from google-auth<3.0.0,>=2.14.1->google-cloud-bigquery) (5.5.2)\n",
      "Requirement already satisfied: pyasn1-modules>=0.2.1 in c:\\users\\rishi\\poc_project\\.venv\\lib\\site-packages (from google-auth<3.0.0,>=2.14.1->google-cloud-bigquery) (0.4.2)\n",
      "Requirement already satisfied: rsa<5,>=3.1.4 in c:\\users\\rishi\\poc_project\\.venv\\lib\\site-packages (from google-auth<3.0.0,>=2.14.1->google-cloud-bigquery) (4.9.1)\n",
      "Requirement already satisfied: google-crc32c<2.0dev,>=1.0 in c:\\users\\rishi\\poc_project\\.venv\\lib\\site-packages (from google-resumable-media<3.0.0,>=2.0.0->google-cloud-bigquery) (1.7.1)\n",
      "Requirement already satisfied: six>=1.5 in c:\\users\\rishi\\poc_project\\.venv\\lib\\site-packages (from python-dateutil<3.0.0,>=2.8.2->google-cloud-bigquery) (1.17.0)\n",
      "Requirement already satisfied: charset-normalizer<4,>=2 in c:\\users\\rishi\\poc_project\\.venv\\lib\\site-packages (from requests<3.0.0,>=2.21.0->google-cloud-bigquery) (3.4.2)\n",
      "Requirement already satisfied: idna<4,>=2.5 in c:\\users\\rishi\\poc_project\\.venv\\lib\\site-packages (from requests<3.0.0,>=2.21.0->google-cloud-bigquery) (3.10)\n",
      "Requirement already satisfied: urllib3<3,>=1.21.1 in c:\\users\\rishi\\poc_project\\.venv\\lib\\site-packages (from requests<3.0.0,>=2.21.0->google-cloud-bigquery) (2.4.0)\n",
      "Requirement already satisfied: certifi>=2017.4.17 in c:\\users\\rishi\\poc_project\\.venv\\lib\\site-packages (from requests<3.0.0,>=2.21.0->google-cloud-bigquery) (2025.4.26)\n",
      "Requirement already satisfied: pyasn1>=0.1.3 in c:\\users\\rishi\\poc_project\\.venv\\lib\\site-packages (from rsa<5,>=3.1.4->google-auth<3.0.0,>=2.14.1->google-cloud-bigquery) (0.6.1)\n",
      "Downloading google_cloud-0.34.0-py2.py3-none-any.whl (1.8 kB)\n",
      "Installing collected packages: google-cloud\n",
      "Successfully installed google-cloud-0.34.0\n"
     ]
    }
   ],
   "source": [
    "!pip install --upgrade google-cloud google-cloud-bigquery"
   ]
  },
  {
   "cell_type": "code",
   "execution_count": null,
   "id": "acdcaa5e",
   "metadata": {},
   "outputs": [],
   "source": [
    "@tool\n",
    "def get_weather(location: str):\n",
    "    \"\"\"Call to get the current weather.\"\"\"\n",
    "    if location.lower() in [\"munich\"]:\n",
    "        return \"It's 15 degrees Celsius and cloudy.\"\n",
    "    else:\n",
    "        return \"It's 32 degrees Celsius and sunny.\"\n",
    "    python -m ipykernel install --user --name .venv --display-name \"Aiagent-langgraph\""
   ]
  },
  {
   "cell_type": "code",
   "execution_count": 8,
   "id": "0fa4644e",
   "metadata": {},
   "outputs": [],
   "source": [
    "def call_model(state: MessagesState):\n",
    "    messages = state[\"messages\"]\n",
    "    response = llm.invoke(messages)\n",
    "    return {\"messages\": [response]}\n",
    "\n",
    "\n",
    "def should_continue(state: MessagesState) -> Literal[\"tools\", END]:\n",
    "    messages = state[\"messages\"]\n",
    "    last_message = messages[-1]\n",
    "    if last_message.tool_calls:\n",
    "        return \"tools\"\n",
    "    return END"
   ]
  }
 ],
 "metadata": {
  "kernelspec": {
   "display_name": ".venv",
   "language": "python",
   "name": "python3"
  },
  "language_info": {
   "codemirror_mode": {
    "name": "ipython",
    "version": 3
   },
   "file_extension": ".py",
   "mimetype": "text/x-python",
   "name": "python",
   "nbconvert_exporter": "python",
   "pygments_lexer": "ipython3",
   "version": "3.12.6"
  }
 },
 "nbformat": 4,
 "nbformat_minor": 5
}
